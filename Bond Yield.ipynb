{
 "cells": [
  {
   "cell_type": "code",
   "execution_count": 1,
   "id": "650a8e21",
   "metadata": {},
   "outputs": [],
   "source": [
    "import numpy as np\n",
    "import pandas as pd\n",
    "import matplotlib.pyplot as plt\n",
    "import library.pricing as price"
   ]
  },
  {
   "cell_type": "markdown",
   "id": "92b28109",
   "metadata": {},
   "source": [
    "## Required Yield\n",
    "\n",
    "The interest rate an investor desires from investing in a bond. Specified as an annual interest rate. When bonds are based off of a semiannual (or less) period, the effective annual yield would be greater than the annual interest rate (compounding).\n",
    "\n",
    "**Note:** Comparable bonds are selected based on required yield, only in the context of option free bonds for the following analyses."
   ]
  },
  {
   "cell_type": "markdown",
   "id": "a12afd5d",
   "metadata": {},
   "source": [
    "### Yield Measuring\n",
    "Given the prices for a bond, there are many ways to calculate the required yield. Indeed, not one measurement is absolute, yet offer an idea of what to expect in return on a bond from one or more of the following sources:\n",
    " - Coupon interest made by the issuer\n",
    " - Capital gains or losses when the bond matures\n",
    " - Income from reinvestment of coupon interest payments (interest-on-interest)\n",
    " \n",
    "The three yield measures most commonly cited for the potential return of a bond are:\n",
    "1. Current Yield\n",
    "2. Yield-to-Maturity\n",
    "3. Yield-to-Call"
   ]
  },
  {
   "cell_type": "markdown",
   "id": "6f9e47e8",
   "metadata": {},
   "source": [
    "### Current Yield\n",
    "\n",
    "This relates the annual coupon interest to the market price.\n",
    "\n",
    "**Note:** Current yield only considers the coupon interest and no other source of return."
   ]
  },
  {
   "cell_type": "markdown",
   "id": "57fe6a9e",
   "metadata": {},
   "source": [
    "#### Yield Calculation Formula\n",
    "The current yield formula is given by:\n",
    "$$current\\ yield=\\frac{annual\\ dollar\\ coupon\\ interest}{price}$$"
   ]
  },
  {
   "cell_type": "markdown",
   "id": "08b973ef",
   "metadata": {},
   "source": [
    "##### Examples with Formula\n",
    "\n",
    "&emsp; Bond Length - $18$ years <br>\n",
    "&emsp; Coupon Rate - $6\\%$ <br>\n",
    "&emsp; Bond Value - $\\$700.89$ <br>\n",
    "&emsp; Maturity Value - $\\$1,000$"
   ]
  },
  {
   "cell_type": "code",
   "execution_count": 2,
   "id": "0a400a3d",
   "metadata": {},
   "outputs": [
    {
     "name": "stdout",
     "output_type": "stream",
     "text": [
      "Annual Coupon Rate - $60.00\n",
      "Required Yield - 8.56%\n"
     ]
    }
   ],
   "source": [
    "bond_len = 18\n",
    "coupon_per = .06 # yearly rate\n",
    "bond_price = 700.89\n",
    "par_val = 1000\n",
    "\n",
    "coupon_per = par_val * coupon_per\n",
    "req_yield_per = coupon_per / bond_price\n",
    "\n",
    "print('Annual Coupon Rate - ${:.2f}'.format(coupon_per))\n",
    "print('Required Yield - {:.2%}'.format(req_yield_per))"
   ]
  },
  {
   "cell_type": "code",
   "execution_count": 3,
   "id": "2eedfbc7",
   "metadata": {},
   "outputs": [],
   "source": [
    "def bond_current_yield_calc(bond_len, coupon_per, bond_price, par_val, len_time='annual', details=True):\n",
    "    \"\"\" Calculate Current Yield for a Bond\n",
    "    \n",
    "    Given args are converted into numpy arrrays. \n",
    "    They are then used to calculate what the current yield for a bond based on annualized coupon payments.\n",
    "    \n",
    "    Args:\n",
    "        bond_len (int): Number of bond periods before maturity.\n",
    "        coupon_per (float): Current interest rate return on a bond per specified period.\n",
    "        par_val (float): Value of bond at par.\n",
    "        bond_price (float): Price of bond given.\n",
    "        len_time (str): Period length designation.\n",
    "        details (bool): Determines whether to print calculation results.\n",
    "        \n",
    "    Returns:\n",
    "        np.float: Required yield based on current yield percentage.\n",
    "        \n",
    "    \"\"\"\n",
    "    # convert to numpy arrays\n",
    "    bond_len = np.array(bond_len)\n",
    "    coupon_per = np.array(coupon_per)\n",
    "    bond_price = np.array(bond_price)\n",
    "    par_val = np.array(par_val)\n",
    "    \n",
    "    # fail safe\n",
    "    if (bond_len.size != coupon_per.size) | (coupon_per.size != par_val.size):\n",
    "        return 'Incorrect argument dimensions'\n",
    "    if len_time.lower() not in ('semiannual', 'annual'):\n",
    "        return 'Incorrect period length description'\n",
    "    \n",
    "    # adjust fields based on length of bond period\n",
    "    period = np.where(len_time.lower()=='semiannual', 2, 1)\n",
    "    coupon_per = np.multiply(coupon_per, period)\n",
    "    \n",
    "    # adjust for given coupon rate format\n",
    "    coupon_per = np.where(coupon_per > 1, np.divide(coupon_per, 100), coupon_per)\n",
    "    \n",
    "    # calculate current yield\n",
    "    coupon_per = np.multiply(par_val, coupon_per)\n",
    "    req_yield_per = np.divide(coupon_per, bond_price)\n",
    "    \n",
    "    if details:\n",
    "        if bond_len.size == 1:\n",
    "            'Annual Coupon Rate - ${:.2f}'.format(coupon_per)\n",
    "            print(len_time.capitalize() + ' Coupon Rate - ${:.2f}'.format(coupon_per))\n",
    "            print('Required Yield - {:.2%}'.format(req_yield_per))\n",
    "        else:\n",
    "            np.set_printoptions(precision=2)\n",
    "            print(len_time.capitalize() + ' Coupon Rate - ${}'.format(coupon_per))\n",
    "            print('Required Yield - {}'.format(req_yield_per))\n",
    "        \n",
    "    return req_yield_per"
   ]
  },
  {
   "cell_type": "markdown",
   "id": "76d5be6c",
   "metadata": {},
   "source": [
    "&emsp; Bond Length - $18$ years <br>\n",
    "&emsp; Coupon Rate - $6\\%$ <br>\n",
    "&emsp; Bond Value - $\\$700.89$ <br>\n",
    "&emsp; Maturity Value - $\\$1,000$"
   ]
  },
  {
   "cell_type": "code",
   "execution_count": 4,
   "id": "edb33c38",
   "metadata": {},
   "outputs": [
    {
     "name": "stdout",
     "output_type": "stream",
     "text": [
      "Annual Coupon Rate - $60.00\n",
      "Required Yield - 8.56%\n"
     ]
    },
    {
     "data": {
      "text/plain": [
       "0.0856054445062706"
      ]
     },
     "execution_count": 4,
     "metadata": {},
     "output_type": "execute_result"
    }
   ],
   "source": [
    "bond_current_yield_calc(bond_len=18, coupon_per=.06, bond_price=700.89, par_val=1000, len_time='annual')"
   ]
  },
  {
   "cell_type": "markdown",
   "id": "2b86ef9e",
   "metadata": {},
   "source": [
    "### Yield-to-Maturity\n",
    "\n",
    "Simply, the internal rate of return on an investment, is the interest rate that makes the present value of the cash-flows equal to the price of a bond (initial investment). In effect, we are running the pricing formula for a bond at different required yields to match up with the present value of the coupon payments and maturity value.\n",
    "\n",
    "**Note:** Involves a trial and errror approach to calculate based on given price."
   ]
  },
  {
   "cell_type": "markdown",
   "id": "82b079b5",
   "metadata": {},
   "source": [
    "#### Price Calculation Formula\n",
    "The price formula is given by:\n",
    "$$p=c\\left[\\frac{1-\\left\\{\\frac{1}{(1+i)^n}\\right\\}}{i}\\right]+\\frac{M}{(1+i)^n}$$\n",
    "where <br> \n",
    "&emsp; $p=$ price $(\\$)$ <br> \n",
    "&emsp; $c=$ semiannual coupon payment $(\\$)$ <br> \n",
    "&emsp; $n=$ number of periods (number of years x 2) <br> \n",
    "&emsp; $i=$ periodic interest rate (required yield / 2) <br> \n",
    "&emsp;$M=$ maturity/par value"
   ]
  },
  {
   "cell_type": "markdown",
   "id": "19b98276",
   "metadata": {},
   "source": [
    "##### Formula with Examples"
   ]
  },
  {
   "cell_type": "code",
   "execution_count": 5,
   "id": "adad346c",
   "metadata": {},
   "outputs": [],
   "source": [
    "def bond_yield_maturity_calc(bond_len, coupon_per, bond_price, par_val, call_val=0, len_time='annual', details=True):    \n",
    "    \"\"\" Calculate Yield-to-Maturity for a Bond\n",
    "    \n",
    "    Given args are converted into numpy arrrays. \n",
    "    They are then used to calculate what the payout is for a bond during its life into maturity.\n",
    "    \n",
    "    Args:\n",
    "        bond_len (int): Number of bond periods before maturity.\n",
    "        coupon_per (float): Current interest rate return on a bond per specified period.\n",
    "        bond_price (float): Price of bond given.        \n",
    "        par_val (float): Value of bond at par.\n",
    "        call_val (float): Value of bond at first callable event.\n",
    "        len_time (str): Period length designation.\n",
    "        details (bool): Determines whether to print calculation results.\n",
    "        \n",
    "    Returns:\n",
    "        np.float: Required interest optimized for given bond value.\n",
    "        \n",
    "    \"\"\"    \n",
    "    # calculate pricing\n",
    "    req_yield_pers = np.arange(.01, 100, .01)\n",
    "    bond_prices = price.bond_price_calc(bond_len=bond_len, coupon_per=coupon_per, par_val=par_val, call_val=call_val, req_yield_per=req_yield_pers, len_time=len_time, details=False)[2]\n",
    "    \n",
    "    # calculate yield\n",
    "    try:\n",
    "        bond_index = np.where(np.round(bond_prices, 2) == np.round(bond_price, 2))[0]\n",
    "        bond_index.shape[1]\n",
    "    except:\n",
    "        ordered_bond_prices = bond_prices.copy()\n",
    "        ordered_bond_prices.sort() \n",
    "        bond_index = np.searchsorted(np.round(ordered_bond_prices, 2), np.array(np.round(bond_price, 2)))\n",
    "        bond_index = np.where(bond_prices == ordered_bond_prices[bond_index])\n",
    "     \n",
    "    if details:\n",
    "            print('Yield-to-Maturity Lookup - {:.2%}'.format(np.divide(req_yield_pers[bond_index][0], 100)))\n",
    "\n",
    "    return req_yield_pers[bond_index][0]"
   ]
  },
  {
   "cell_type": "markdown",
   "id": "c5388b1f",
   "metadata": {},
   "source": [
    "&emsp; Bond Length - $18$ years <br>\n",
    "&emsp; Coupon Rate - $6\\%$ <br>\n",
    "&emsp; Bond Value - $\\$700.89$ <br>\n",
    "&emsp; Maturity Value - $\\$1,000$"
   ]
  },
  {
   "cell_type": "code",
   "execution_count": 6,
   "id": "fe9dbdc5",
   "metadata": {
    "scrolled": false
   },
   "outputs": [
    {
     "data": {
      "image/png": "[encoded data removed]",
      "text/plain": [
       "<Figure size 432x288 with 1 Axes>"
      ]
     },
     "metadata": {
      "needs_background": "light"
     },
     "output_type": "display_data"
    },
    {
     "data": {
      "text/html": [
       "<div>\n",
       "<style scoped>\n",
       "    .dataframe tbody tr th:only-of-type {\n",
       "        vertical-align: middle;\n",
       "    }\n",
       "\n",
       "    .dataframe tbody tr th {\n",
       "        vertical-align: top;\n",
       "    }\n",
       "\n",
       "    .dataframe thead th {\n",
       "        text-align: right;\n",
       "    }\n",
       "</style>\n",
       "<table border=\"1\" class=\"dataframe\">\n",
       "  <thead>\n",
       "    <tr style=\"text-align: right;\">\n",
       "      <th></th>\n",
       "      <th>Price</th>\n",
       "    </tr>\n",
       "    <tr>\n",
       "      <th>Required Yield</th>\n",
       "      <th></th>\n",
       "    </tr>\n",
       "  </thead>\n",
       "  <tbody>\n",
       "    <tr>\n",
       "      <th>7.0</th>\n",
       "      <td>898.54</td>\n",
       "    </tr>\n",
       "    <tr>\n",
       "      <th>7.5</th>\n",
       "      <td>853.14</td>\n",
       "    </tr>\n",
       "    <tr>\n",
       "      <th>8.0</th>\n",
       "      <td>810.92</td>\n",
       "    </tr>\n",
       "    <tr>\n",
       "      <th>8.5</th>\n",
       "      <td>771.61</td>\n",
       "    </tr>\n",
       "    <tr>\n",
       "      <th>9.0</th>\n",
       "      <td>735.01</td>\n",
       "    </tr>\n",
       "    <tr>\n",
       "      <th>9.5</th>\n",
       "      <td>700.89</td>\n",
       "    </tr>\n",
       "    <tr>\n",
       "      <th>10.0</th>\n",
       "      <td>669.07</td>\n",
       "    </tr>\n",
       "  </tbody>\n",
       "</table>\n",
       "</div>"
      ],
      "text/plain": [
       "                 Price\n",
       "Required Yield        \n",
       "7.0             898.54\n",
       "7.5             853.14\n",
       "8.0             810.92\n",
       "8.5             771.61\n",
       "9.0             735.01\n",
       "9.5             700.89\n",
       "10.0            669.07"
      ]
     },
     "execution_count": 6,
     "metadata": {},
     "output_type": "execute_result"
    }
   ],
   "source": [
    "x = np.arange(.01, 100, .01)\n",
    "y = price.bond_price_calc(bond_len=18, coupon_per=6, par_val=1000, req_yield_per=x, len_time='semiannual', details=False)[2]\n",
    "\n",
    "plt.xlim([2,40])\n",
    "plt.plot(x, y)\n",
    "\n",
    "# set labels\n",
    "plt.xlabel('Required Yield')\n",
    "plt.ylabel('Price')\n",
    "plt.title('Price/Yield Relationship')\n",
    "\n",
    "plt.show()\n",
    "\n",
    "# add table\n",
    "t = pd.DataFrame(data=np.array([x,y]).T, columns=['Required Yield','Price']).round({'Required Yield': 3})\n",
    "t[t['Required Yield'] % .5 == 0].set_index('Required Yield').loc[7:10]"
   ]
  },
  {
   "cell_type": "code",
   "execution_count": 7,
   "id": "2ce4e3a0",
   "metadata": {},
   "outputs": [
    {
     "name": "stdout",
     "output_type": "stream",
     "text": [
      "Yield-to-Maturity Lookup - 9.50%\n"
     ]
    },
    {
     "data": {
      "text/plain": [
       "9.5"
      ]
     },
     "execution_count": 7,
     "metadata": {},
     "output_type": "execute_result"
    }
   ],
   "source": [
    "bond_yield_maturity_calc(bond_len=18, coupon_per=.06, bond_price=700.89, par_val=1000, len_time='semiannual', details=True)"
   ]
  },
  {
   "cell_type": "markdown",
   "id": "95409eda",
   "metadata": {},
   "source": [
    "#### Required Yield Realization\n",
    "In order to for an investor to realize the expected return for an investment's yield-to-maturity, the investor is expected to reinvest all coupon payments. This opens an invester up to the potential risks:\n",
    "\n",
    "1. Reinvestment Risk - the risk of future investment rates being less than the yield-to-maturity.\n",
    "    - Longer maturity is recognized by longer reliance on reinvestment and therefore more risk.\n",
    "    - For given maturity an yield-to-maturity, the higher the coupon rate, the more dependence on reinvestment and therefore more risk (premium bonds).  \n",
    "    - Zero-coupon bonds have no reinvestment risk of held to maturity. \n",
    "2. Interest-Rate Risk - Risk of selling bond at loss due to high-interest rates.\n",
    "    - As interest rates rise (fall), the price of a bond will fall (rise). \n",
    "    - No conern to buyer looking to hold to maturity."
   ]
  },
  {
   "cell_type": "markdown",
   "id": "3d02d846",
   "metadata": {},
   "source": [
    "##### Example\n",
    "&emsp; Bond Length - $18$ years <br>\n",
    "&emsp; Coupon Rate - $6\\%$ <br>\n",
    "&emsp; Bond Value - $\\$700.89$ <br>\n",
    "&emsp; Maturity Value - $\\$1,000$ <br>\n",
    "&emsp; Yield - $9.5\\%$"
   ]
  },
  {
   "cell_type": "code",
   "execution_count": 8,
   "id": "de962880",
   "metadata": {},
   "outputs": [
    {
     "name": "stdout",
     "output_type": "stream",
     "text": [
      "Initial amount of prinicpal investment: $700.89\n",
      "Total amount of reinvested coupon payments: $1647.00\n",
      "Total percentage of reinvested coupon payments: 54.43%\n",
      "Total amount of return from investment and reinvestment: $3727.00\n"
     ]
    }
   ],
   "source": [
    "bond_len = 18\n",
    "bond_price = 700.89\n",
    "par_val = 1000\n",
    "coupon_per = 6\n",
    "\n",
    "bond_len_range = np.arange(bond_len, -.5, -.5)\n",
    "length = np.zeros(len(bond_len_range))\n",
    "\n",
    "coupon_payments = length.copy()\n",
    "coupon_periods = length.copy()\n",
    "par_values = length.copy()\n",
    "bond_prices = length.copy()\n",
    "\n",
    "coupon_payments[0] = par_val\n",
    "for i in np.arange(len(bond_len_range)):\n",
    "    coupon_payments[i], par_values[i], coupon_periods[i] = price.bond_cash_flow_calc(bond_len=bond_len_range[i], coupon_per=coupon_per, par_val=coupon_payments[0], len_time='semiannual', details=False)\n",
    "\n",
    "return_val = np.sum(np.add(np.multiply(coupon_payments, coupon_periods), par_values))\n",
    "reinvest_val = np.subtract(return_val, np.sum(par_values))\n",
    "# coupon_payments, coupon_periods, par_values\n",
    "print('Initial amount of prinicpal investment: ${:.2f}'.format(bond_price))\n",
    "print('Total amount of reinvested coupon payments: ${:.2f}'.format(reinvest_val))\n",
    "print('Total percentage of reinvested coupon payments: {:.2%}'.format(np.divide(reinvest_val, np.subtract(return_val, bond_price))))\n",
    "print('Total amount of return from investment and reinvestment: ${:.2f}'.format(return_val))"
   ]
  },
  {
   "cell_type": "markdown",
   "id": "ba19e255",
   "metadata": {},
   "source": [
    "#### Zero-Coupon Bond Formula\n",
    "The price formula is given by:\n",
    "$$i=\\left(\\frac{M}{p}\\right)^\\frac{1}{n}-1$$\n",
    "where <br> \n",
    "&emsp; $p=$ price $(\\$)$ <br> \n",
    "&emsp; $n=$ number of periods (number of years x 2) <br> \n",
    "&emsp; $i=$ periodic interest rate (required yield / 2) <br> \n",
    "&emsp;$M=$ maturity/par value"
   ]
  },
  {
   "cell_type": "markdown",
   "id": "a371dca3",
   "metadata": {},
   "source": [
    "##### Example\n",
    "&emsp; Bond Length - $15$ years <br>\n",
    "&emsp; Bond Value - $\\$274.78$ <br>\n",
    "&emsp; Maturity Value - $\\$1,000$ <br>"
   ]
  },
  {
   "cell_type": "code",
   "execution_count": 9,
   "id": "2d5a846b",
   "metadata": {},
   "outputs": [
    {
     "name": "stdout",
     "output_type": "stream",
     "text": [
      "Yield-to-Maturity - 8.80%\n"
     ]
    }
   ],
   "source": [
    "bond_len = 15\n",
    "bond_price = 274.78\n",
    "par_val = 1000\n",
    "\n",
    "bond_len = np.multiply(bond_len, 2)\n",
    "\n",
    "req_yield_per_half = np.subtract(np.power(np.divide(par_val, bond_price), np.divide(1, bond_len)), 1)\n",
    "req_yield_per = np.multiply(req_yield_per_half, 2)\n",
    "print('Yield-to-Maturity - {:.2%}'.format(req_yield_per))"
   ]
  },
  {
   "cell_type": "markdown",
   "id": "6701a0ae",
   "metadata": {},
   "source": [
    "#### Relationships with Rates\n",
    "| **Bond Selling at** |                 **Relationship**                |\n",
    "|:--------------------|:-----------------------------------------------:|\n",
    "| Par                 | Coupon Rate = Current Yield = Yield-to-Maturity |\n",
    "| Discount            | Coupon Rate < Current Yield < Yield-to-Maturity |\n",
    "| Premium             | Coupon Rate > Current Yield > Yield-to-Maturity |"
   ]
  },
  {
   "cell_type": "markdown",
   "id": "365d42e3",
   "metadata": {},
   "source": [
    "#### Annualizing Procedure Problems\n",
    "Multiplying semiannual interest rates by 2 will underestimate the effective annual yield. The best method is to resort to transforming the semiannual rate (nominal) into an (effective) annual rate."
   ]
  },
  {
   "cell_type": "markdown",
   "id": "620bc43a",
   "metadata": {},
   "source": [
    "#### Effective Calculation Formula\n",
    "The price formula is given by:\n",
    "$$Effective\\ Annual\\ Yield=(1+Periodic\\ Interest\\ Rate)^k-1$$\n",
    "where <br> \n",
    "&emsp; $k=$ number of payments per year\n",
    "\n",
    "**Note**: Calculations until now have just doubled semiannual interest rate as a simplification."
   ]
  },
  {
   "cell_type": "markdown",
   "id": "f51b397c",
   "metadata": {},
   "source": [
    "##### Example\n",
    "\n",
    "&emsp; Yield - $9.5\\%$"
   ]
  },
  {
   "cell_type": "code",
   "execution_count": 10,
   "id": "1c53ecfb",
   "metadata": {},
   "outputs": [
    {
     "name": "stdout",
     "output_type": "stream",
     "text": [
      "Effective Annual Yield - 9.73%\n"
     ]
    }
   ],
   "source": [
    "req_yield_per = .095\n",
    "\n",
    "req_yield_per = np.divide(req_yield_per, 2)\n",
    "return_val = np.subtract(np.power(np.add(1, req_yield_per), 2), 1)\n",
    "print('Effective Annual Yield - {:.2%}'.format(return_val))"
   ]
  },
  {
   "cell_type": "markdown",
   "id": "8711a168",
   "metadata": {},
   "source": [
    "### Yield-to-Call\n",
    "\n",
    "Simply, the internal rate of return on an investment, is similar to yield-to-maturity, but produced for an expected date before maturity, typically at the first call date or first par call date. The yield-to-call is the interest rate that will make present value of the cashflows if the bond is held to the assumed call date equal to the price of the bond (full price).\n",
    "\n",
    "A yield-to-call does consider reinvestments as part of its consideration.\n",
    "\n",
    "Investors usually capture the yield-to-maturity and yield-to-call, at every possible call date (anually if at any time), and compare to select the lowest as the most conservative value for a bond's actual considered rate of return. This is called the yield-to-worst. "
   ]
  },
  {
   "cell_type": "markdown",
   "id": "df76804e",
   "metadata": {},
   "source": [
    "##### Example\n",
    "&emsp; Bond Length - $18$ years <br>\n",
    "&emsp; Coupon Rate - $6\\%$ <br>\n",
    "&emsp; Bond Value - $\\$700.89$ <br>\n",
    "&emsp; Maturity Value - $\\$1,000$ <br>\n",
    "\n",
    "At First Call:  <br>\n",
    "&emsp; Call Date - $5$ years <br>\n",
    "&emsp; Call Price - $\\$1,030$"
   ]
  },
  {
   "cell_type": "code",
   "execution_count": 11,
   "id": "9ab3ddba",
   "metadata": {},
   "outputs": [
    {
     "data": {
      "image/png": "[encoded data removed]",
      "text/plain": [
       "<Figure size 432x288 with 1 Axes>"
      ]
     },
     "metadata": {
      "needs_background": "light"
     },
     "output_type": "display_data"
    }
   ],
   "source": [
    "x = np.arange(.01, 100, .01)\n",
    "y = price.bond_price_calc(bond_len=5, coupon_per=6, par_val=1000, req_yield_per=x, call_val=1030, len_time='semiannual', details=False)[2]\n",
    "\n",
    "plt.xlim([2,40])\n",
    "plt.plot(x, y)\n",
    "\n",
    "# set labels\n",
    "plt.xlabel('Required Yield')\n",
    "plt.ylabel('Price')\n",
    "plt.title('Price/Yield Relationship')\n",
    "\n",
    "plt.show()"
   ]
  },
  {
   "cell_type": "code",
   "execution_count": 12,
   "id": "1faaa725",
   "metadata": {},
   "outputs": [
    {
     "name": "stdout",
     "output_type": "stream",
     "text": [
      "Yield-to-Maturity Lookup - 15.17%\n"
     ]
    },
    {
     "data": {
      "text/plain": [
       "15.17"
      ]
     },
     "execution_count": 12,
     "metadata": {},
     "output_type": "execute_result"
    }
   ],
   "source": [
    "bond_yield_maturity_calc(bond_len=5, coupon_per=.06, bond_price=700.89, par_val=1000, call_val=1030, len_time='semiannual', details=True)"
   ]
  },
  {
   "cell_type": "markdown",
   "id": "f751cf94",
   "metadata": {},
   "source": [
    "### Yield for an Investment"
   ]
  },
  {
   "cell_type": "markdown",
   "id": "ca0e19ba",
   "metadata": {},
   "source": [
    "##### Example\n",
    "| **Bond** | **Coupon Rate** | **Maturity** | **Par Value** | **Price Value** | **Yield-to-Maturity** |\n",
    "|----------|-----------------|--------------|---------------|-----------------|-----------------------|\n",
    "|     A    |       7.0%      |    5 years   |  \\$10,000,000 |    \\$9,209,000  |          9.0%         |\n",
    "|     B    |      10.5%      |    7 years   |  \\$20,000,000 |   \\$20,000,000  |         10.5%         |\n",
    "|     C    |       6.0%      |    3 years   |  \\$30,000,000 |   \\$28,050,000  |          8.5%         |"
   ]
  },
  {
   "cell_type": "code",
   "execution_count": 13,
   "id": "0ac90a82",
   "metadata": {},
   "outputs": [
    {
     "data": {
      "text/html": [
       "<div>\n",
       "<style scoped>\n",
       "    .dataframe tbody tr th:only-of-type {\n",
       "        vertical-align: middle;\n",
       "    }\n",
       "\n",
       "    .dataframe tbody tr th {\n",
       "        vertical-align: top;\n",
       "    }\n",
       "\n",
       "    .dataframe thead th {\n",
       "        text-align: right;\n",
       "    }\n",
       "</style>\n",
       "<table border=\"1\" class=\"dataframe\">\n",
       "  <thead>\n",
       "    <tr style=\"text-align: right;\">\n",
       "      <th></th>\n",
       "      <th>Bond</th>\n",
       "      <th>Coupon Rate</th>\n",
       "      <th>Maturity</th>\n",
       "      <th>Period</th>\n",
       "      <th>Par Value</th>\n",
       "      <th>Price Value</th>\n",
       "      <th>Yield-to-Maturity</th>\n",
       "    </tr>\n",
       "  </thead>\n",
       "  <tbody>\n",
       "    <tr>\n",
       "      <th>0</th>\n",
       "      <td>A</td>\n",
       "      <td>7.0</td>\n",
       "      <td>5</td>\n",
       "      <td>semiannual</td>\n",
       "      <td>10000000</td>\n",
       "      <td>9209000</td>\n",
       "      <td>9.0</td>\n",
       "    </tr>\n",
       "    <tr>\n",
       "      <th>1</th>\n",
       "      <td>B</td>\n",
       "      <td>10.5</td>\n",
       "      <td>7</td>\n",
       "      <td>semiannual</td>\n",
       "      <td>20000000</td>\n",
       "      <td>20000000</td>\n",
       "      <td>10.5</td>\n",
       "    </tr>\n",
       "    <tr>\n",
       "      <th>2</th>\n",
       "      <td>C</td>\n",
       "      <td>6.0</td>\n",
       "      <td>3</td>\n",
       "      <td>semiannual</td>\n",
       "      <td>30000000</td>\n",
       "      <td>28050000</td>\n",
       "      <td>8.5</td>\n",
       "    </tr>\n",
       "  </tbody>\n",
       "</table>\n",
       "</div>"
      ],
      "text/plain": [
       "  Bond  Coupon Rate  Maturity      Period  Par Value  Price Value  \\\n",
       "0    A          7.0         5  semiannual   10000000      9209000   \n",
       "1    B         10.5         7  semiannual   20000000     20000000   \n",
       "2    C          6.0         3  semiannual   30000000     28050000   \n",
       "\n",
       "   Yield-to-Maturity  \n",
       "0                9.0  \n",
       "1               10.5  \n",
       "2                8.5  "
      ]
     },
     "metadata": {},
     "output_type": "display_data"
    }
   ],
   "source": [
    "df = pd.DataFrame()\n",
    "df['Bond'] = ['A', 'B', 'C']\n",
    "df['Coupon Rate'] = [7.0, 10.5, 6.0]\n",
    "df['Maturity'] = [5, 7, 3]\n",
    "df['Period'] = ['semiannual', 'semiannual', 'semiannual']\n",
    "df['Par Value'] = [10000000, 20000000, 30000000]\n",
    "df['Price Value'] = [9209000, 20000000, 28050000]\n",
    "df['Yield-to-Maturity'] = [9.0, 10.5, 8.5]\n",
    "display(df)"
   ]
  },
  {
   "cell_type": "code",
   "execution_count": 27,
   "id": "69b54338",
   "metadata": {},
   "outputs": [
    {
     "name": "stdout",
     "output_type": "stream",
     "text": [
      "Yield-to-Maturity Lookup - 7.86%\n"
     ]
    },
    {
     "data": {
      "text/plain": [
       "7.86"
      ]
     },
     "execution_count": 27,
     "metadata": {},
     "output_type": "execute_result"
    }
   ],
   "source": [
    "bond_yield_maturity_calc(bond_len=7, coupon_per=7, bond_price=57259000, par_val=60000000, len_time='semiannual', details=True)"
   ]
  },
  {
   "cell_type": "code",
   "execution_count": 31,
   "id": "71be97a6",
   "metadata": {},
   "outputs": [
    {
     "name": "stdout",
     "output_type": "stream",
     "text": [
      "Yield-to-Maturity Lookup - 8.50%\n"
     ]
    },
    {
     "data": {
      "text/plain": [
       "8.5"
      ]
     },
     "execution_count": 31,
     "metadata": {},
     "output_type": "execute_result"
    }
   ],
   "source": [
    "bond_yield_maturity_calc(bond_len=3, coupon_per=6, bond_price=28050000, par_val=30000000, len_time='semiannual', details=True)"
   ]
  },
  {
   "cell_type": "code",
   "execution_count": null,
   "id": "766c9e91",
   "metadata": {},
   "outputs": [],
   "source": [
    "bond_yield_maturity_calc(bond_len=7, coupon_per=7, bond_price=57259000, par_val=60000000, len_time='semiannual', details=True)"
   ]
  },
  {
   "cell_type": "code",
   "execution_count": null,
   "id": "e64949ac",
   "metadata": {},
   "outputs": [],
   "source": [
    "bond_yield_maturity_calc(bond_len=7, coupon_per=7, bond_price=57259000, par_val=60000000, len_time='semiannual', details=True)"
   ]
  },
  {
   "cell_type": "code",
   "execution_count": 26,
   "id": "2b279f38",
   "metadata": {},
   "outputs": [
    {
     "data": {
      "text/plain": [
       "83600000.0"
      ]
     },
     "execution_count": 26,
     "metadata": {},
     "output_type": "execute_result"
    }
   ],
   "source": [
    "a_coup, a_mat, a_len = price.bond_cash_flow_calc(5, 7, 10000000, len_time='semiannual', details=False)\n",
    "a = a_coup * a_len + a_mat\n",
    "\n",
    "b_coup, b_mat, b_len = price.bond_cash_flow_calc(7, 10.5, 20000000, len_time='semiannual', details=False)\n",
    "b = b_coup * b_len + b_mat\n",
    "\n",
    "c_coup, c_mat, c_len = price.bond_cash_flow_calc(3, 6, 30000000, len_time='semiannual', details=False)\n",
    "c = c_coup * c_len + c_mat\n",
    "\n",
    "(a + b + c)"
   ]
  },
  {
   "cell_type": "code",
   "execution_count": 73,
   "id": "56ba97ab",
   "metadata": {},
   "outputs": [
    {
     "data": {
      "text/plain": [
       "0.028095238095238093"
      ]
     },
     "execution_count": 73,
     "metadata": {},
     "output_type": "execute_result"
    }
   ],
   "source": [
    "(83600000-60000000)/60000000*(1/14)"
   ]
  },
  {
   "cell_type": "code",
   "execution_count": 49,
   "id": "3415aa90",
   "metadata": {},
   "outputs": [
    {
     "data": {
      "text/plain": [
       "0.09574040762150915"
      ]
     },
     "execution_count": 49,
     "metadata": {},
     "output_type": "execute_result"
    }
   ],
   "source": [
    "((60000000/57259000)-1)*2"
   ]
  },
  {
   "cell_type": "code",
   "execution_count": 74,
   "id": "64a9602c",
   "metadata": {},
   "outputs": [
    {
     "name": "stdout",
     "output_type": "stream",
     "text": [
      "Yield-to-Maturity Lookup - 3.55%\n"
     ]
    },
    {
     "data": {
      "text/plain": [
       "3.55"
      ]
     },
     "execution_count": 74,
     "metadata": {},
     "output_type": "execute_result"
    }
   ],
   "source": [
    "bond_yield_maturity_calc(bond_len=7, coupon_per=0.028095238095238093, bond_price=57259000, par_val=60000000, len_time='semiannual', details=True)"
   ]
  },
  {
   "cell_type": "markdown",
   "id": "7c655480",
   "metadata": {},
   "source": [
    "COMPUTE PORTFOLIO CALC:\n",
    "START WITH THE DATAFRAME ABOVE\n",
    "EXTEND INTO NEW DATAFRAME\n",
    "FOR EACH PERIOD, CALCULATE THE PRICE AT EVERY SINGLE PERIOD OF THE CASHFLOWS (SIMILAR TO PRICE CALC FOR SETT)\n",
    "ADD THEM ALL UP TO FIND THE PRICE OF TOTAL PRICE VALUE OF THE PORTFOLIO\n",
    "FOR MANY DIFFERENT REQUIRED YEILDS, FIND YIELD EQUAL TO THE 57,529,000\n",
    "OR BY BREAKDOWN"
   ]
  },
  {
   "cell_type": "code",
   "execution_count": null,
   "id": "5f46477a",
   "metadata": {},
   "outputs": [],
   "source": [
    "price.bond_price_calc(7, coupon_per, 60000000, req_yield_per, call_val=0, len_time='annual', details=True)"
   ]
  }
 ],
 "metadata": {
  "kernelspec": {
   "display_name": "Python 3 (ipykernel)",
   "language": "python",
   "name": "python3"
  },
  "language_info": {
   "codemirror_mode": {
    "name": "ipython",
    "version": 3
   },
   "file_extension": ".py",
   "mimetype": "text/x-python",
   "name": "python",
   "nbconvert_exporter": "python",
   "pygments_lexer": "ipython3",
   "version": "3.9.12"
  }
 },
 "nbformat": 4,
 "nbformat_minor": 5
}

{
 "cells": [
  {
   "cell_type": "code",
   "execution_count": 1,
   "id": "650a8e21",
   "metadata": {},
   "outputs": [],
   "source": [
    "import numpy as np\n",
    "import pandas as pd\n",
    "import matplotlib.pyplot as plt"
   ]
  },
  {
   "cell_type": "markdown",
   "id": "a12afd5d",
   "metadata": {},
   "source": [
    "## Bond Pricing\n",
    "The price of any financial instrument is equal to the present value of the expected cash-flow. \\\n",
    "The interest/discount rate is used to compute the present value, dependent on yield offered on comparable securities in the market."
   ]
  },
  {
   "cell_type": "markdown",
   "id": "6f9e47e8",
   "metadata": {},
   "source": [
    "### Cash-Flow\n",
    "\n",
    "The cash-flow is of an option-free bond consists of:\n",
    "1. periodic coupon interest rates (to maturity date)\n",
    "2. the par/maturity value (at maturity)\n",
    "\n",
    "**Note:** The only case is which the cash-flow is ever fully known, is in the case of a fixed-rate, option free bonds. It is assumed here for simplicity."
   ]
  },
  {
   "cell_type": "markdown",
   "id": "08b973ef",
   "metadata": {},
   "source": [
    "##### Example\n",
    "\n",
    "&emsp; Bond Length - $20$ years <br>\n",
    "&emsp; Coupon Rate - $9\\%$ <br>\n",
    "&emsp; Maturity Value - $\\$1,000$"
   ]
  },
  {
   "cell_type": "code",
   "execution_count": 2,
   "id": "0a400a3d",
   "metadata": {},
   "outputs": [
    {
     "name": "stdout",
     "output_type": "stream",
     "text": [
      "Semiannual Coupon Rate - $45.00 for 40 periods\n",
      "Maturity Value - $1000.00\n"
     ]
    }
   ],
   "source": [
    "bond_len = 20\n",
    "coupon_per = .09 # yearly rate\n",
    "par_val = 1000\n",
    "\n",
    "coupon_per = par_val * coupon_per / 2 \n",
    "\n",
    "print('Semiannual Coupon Rate - ${:.2f} for {} periods'.format(coupon_per, bond_len * 2))\n",
    "print('Maturity Value - ${:.2f}'.format(par_val))"
   ]
  },
  {
   "cell_type": "markdown",
   "id": "e55f652b",
   "metadata": {},
   "source": [
    "**Note:** There are 40 semiannual periods of cash-flows of \\\\$45 and \\\\$1,000 cash-flow 40 six-month periods from now. \\\n",
    "**Note:** The treatment of the par value is treated on a *consistent* basis with the coupon payments."
   ]
  },
  {
   "cell_type": "markdown",
   "id": "6767491e",
   "metadata": {},
   "source": [
    "##### Formula with Examples"
   ]
  },
  {
   "cell_type": "code",
   "execution_count": 3,
   "id": "2eedfbc7",
   "metadata": {},
   "outputs": [],
   "source": [
    "def bond_cash_flow_calc(bond_len, coupon_per, par_val, len_time='annual', details=True):\n",
    "    \"\"\" Calculate Cash-flows for a Bond\n",
    "    \n",
    "    Given args are converted into numpy arrrays. \n",
    "    They are then used to calculate what the payout is for a bond during its life into maturity.\n",
    "    \n",
    "    Args:\n",
    "        bond_len (int): Number of bond periods before maturity.\n",
    "        coupon_per (float): Current interest rate return on a bond per specified period.\n",
    "        par_val (float): Value of bond at par.\n",
    "        len_time (str): Period length designation.\n",
    "        details (bool): Determines whether to print calculation results.\n",
    "        \n",
    "    Returns:\n",
    "        np.float: The 1st return value. Number of payments per period.\n",
    "        np.float: The 2nd return value. Return of par value at maturity.\n",
    "        np.float: The 3rd return value. Number of periods of return.\n",
    "        \n",
    "    \"\"\"\n",
    "    \n",
    "    # convert to numpy arrays\n",
    "    bond_len = np.array(bond_len)\n",
    "    coupon_per = np.array(coupon_per)\n",
    "    par_val = np.array(par_val)\n",
    "    \n",
    "    # fail safe\n",
    "    if (bond_len.size != coupon_per.size) | (coupon_per.size != par_val.size):\n",
    "        return 'Incorrect argument dimensions'\n",
    "    if len_time.lower() not in ('semiannual', 'annual'):\n",
    "        return 'Incorrect period length description'\n",
    "\n",
    "    # adjust fields based on length of bond period\n",
    "    period = np.where(len_time.lower()=='semiannual', 2, 1)\n",
    "    bond_len = np.multiply(bond_len, period)\n",
    "    coupon_per = np.divide(coupon_per, period)\n",
    "    \n",
    "    # adjust for given coupon rate format\n",
    "    coupon_per = np.where(coupon_per > 1, np.divide(coupon_per, 100), coupon_per)\n",
    "    \n",
    "    # calculate cash-flow\n",
    "    coupon_per = np.multiply(par_val, coupon_per)\n",
    "    \n",
    "    if details:\n",
    "        if bond_len.size == 1:\n",
    "            print(len_time.capitalize() + ' Coupon Rate - ${:.2f} for {} periods'.format(coupon_per, bond_len))\n",
    "            print('Maturity Value - ${:.2f}'.format(par_val))\n",
    "        else:\n",
    "            np.set_printoptions(precision=2)\n",
    "            print(len_time.capitalize() + ' Coupon Rate - ${} for {} periods'.format(coupon_per, bond_len))\n",
    "            print('Maturity Value - ${}'.format(par_val))\n",
    "        \n",
    "    return coupon_per, par_val, bond_len"
   ]
  },
  {
   "cell_type": "markdown",
   "id": "93d569ec",
   "metadata": {},
   "source": [
    "&emsp; Bond Length - $20$ years <br>\n",
    "&emsp; Coupon Rate - $9\\%$ <br>\n",
    "&emsp; Maturity Value - $\\$1,000$"
   ]
  },
  {
   "cell_type": "code",
   "execution_count": 4,
   "id": "edb33c38",
   "metadata": {},
   "outputs": [
    {
     "name": "stdout",
     "output_type": "stream",
     "text": [
      "Semiannual Coupon Rate - $45.00 for 40 periods\n",
      "Maturity Value - $1000.00\n"
     ]
    },
    {
     "data": {
      "text/plain": [
       "(45.0, array(1000), 40)"
      ]
     },
     "execution_count": 4,
     "metadata": {},
     "output_type": "execute_result"
    }
   ],
   "source": [
    "bond_cash_flow_calc(bond_len=20, coupon_per=.09, par_val=1000, len_time='semiannual')"
   ]
  },
  {
   "cell_type": "markdown",
   "id": "8d20bacf",
   "metadata": {},
   "source": [
    "&emsp; Bond Length - $20$, $20$ years <br>\n",
    "&emsp; Coupon Rate - $9\\%$, $9\\%$ <br>\n",
    "&emsp; Maturity Value - $\\$1,000$, $\\$1,000$"
   ]
  },
  {
   "cell_type": "code",
   "execution_count": 5,
   "id": "2c8c82d4",
   "metadata": {},
   "outputs": [
    {
     "name": "stdout",
     "output_type": "stream",
     "text": [
      "Semiannual Coupon Rate - $[45. 95.] for [40 20] periods\n",
      "Maturity Value - $[1000 1000]\n"
     ]
    },
    {
     "data": {
      "text/plain": [
       "(array([45., 95.]), array([1000, 1000]), array([40, 20]))"
      ]
     },
     "execution_count": 5,
     "metadata": {},
     "output_type": "execute_result"
    }
   ],
   "source": [
    "bond_cash_flow_calc(bond_len=[20, 10], coupon_per=[.09, .19], par_val=[1000, 1000], len_time='semiannual')"
   ]
  },
  {
   "cell_type": "markdown",
   "id": "92b28109",
   "metadata": {},
   "source": [
    "### Required Yield\n",
    "\n",
    "The interest rate an investor desires from investing in a bond. Specified as an annual interest rate. When bonds are based off of a semiannual (or less) period, the effective annual yield would be greater than the annual interest rate (compounding).\n",
    "\n",
    "**Note:** Comparable bonds are selected based on required yield, only in the context of option free bonds for the following analyses. \\\n",
    "**Note:** Theoretically, each period is measured by different yields. The following examination applies consideration for a single yield."
   ]
  },
  {
   "cell_type": "markdown",
   "id": "2b86ef9e",
   "metadata": {},
   "source": [
    "### Bond Price\n",
    "\n",
    "To calculate the cost of a bond for an investor, we need the following:\n",
    "1. Cash-flow\n",
    "2. Required Yield\n",
    "\n",
    "One can then calculate the bond price."
   ]
  },
  {
   "cell_type": "markdown",
   "id": "82b079b5",
   "metadata": {},
   "source": [
    "#### Price Calculation Formula\n",
    "The price formula is given by:\n",
    "$$p=c\\left[\\frac{1-\\left\\{\\frac{1}{(1+i)^n}\\right\\}}{i}\\right]+\\frac{M}{(1+i)^n}$$\n",
    "where <br> \n",
    "&emsp; $p=$ price $(\\$)$ <br> \n",
    "&emsp; $c=$ semiannual coupon payment $(\\$)$ <br> \n",
    "&emsp; $n=$ number of periods (number of years x 2) <br> \n",
    "&emsp; $i=$ periodic interest rate (required yield / 2) <br> \n",
    "&emsp;$M=$ maturity/par value"
   ]
  },
  {
   "cell_type": "markdown",
   "id": "19b98276",
   "metadata": {},
   "source": [
    "##### Formula with Examples"
   ]
  },
  {
   "cell_type": "code",
   "execution_count": 6,
   "id": "adad346c",
   "metadata": {},
   "outputs": [],
   "source": [
    "def bond_price_calc(bond_len, coupon_per, par_val, req_yield_per, len_time='annual', details=True):\n",
    "    \"\"\" Calculate Pricing for a Bond\n",
    "    \n",
    "    Given args are converted into numpy arrrays. \n",
    "    They are then used to calculate what the payout is for a bond during its life into maturity.\n",
    "    \n",
    "    Args:\n",
    "        bond_len (int): Number of bond periods before maturity.\n",
    "        coupon_per (float): Current interest rate return on a bond per specified period.\n",
    "        par_val (float): Value of bona at par.\n",
    "        req_yield_per (float): Expected yearly return on bond.\n",
    "        len_time (str): Period length designation.\n",
    "        details (bool): Determines whether to print calculation results.\n",
    "        \n",
    "    Returns:\n",
    "        np.float: The 1st return value. The price of the coupon payment.\n",
    "        np.float: The 2nd return value. The value at maturity.\n",
    "        np.float: The 3rd return value. The current price of the bond.\n",
    "        \n",
    "    \"\"\"\n",
    "    # convert to numpy arrays\n",
    "    bond_len = np.array(bond_len)\n",
    "    coupon_per = np.array(coupon_per)\n",
    "    par_val = np.array(par_val)\n",
    "    req_yield_per = np.array(req_yield_per)\n",
    "    \n",
    "    # fail safe\n",
    "    if (bond_len.size != coupon_per.size) | (coupon_per.size != par_val.size):\n",
    "        return 'Incorrect argument dimensions'\n",
    "    if len_time.lower() not in ('semiannual', 'annual'):\n",
    "        return 'Incorrect period length description'\n",
    "    \n",
    "    # adjust fields based on length of bond period\n",
    "    p1 = np.where(len_time.lower()=='semiannual', np.divide(12.0, 6.0), 0.0)\n",
    "    p2 = np.where(len_time.lower()=='annual', np.divide(12.0, 12.0), 0.0)\n",
    "    period = np.add(p1, p2)\n",
    "    bond_len = np.multiply(bond_len, period)\n",
    "    coupon_per = np.divide(coupon_per, period)\n",
    "    req_yield_per = np.divide(req_yield_per, period)\n",
    "    \n",
    "    # adjust for given coupon rate format\n",
    "    coupon_per = np.where(coupon_per > 1, np.divide(coupon_per, 100), coupon_per)\n",
    "    req_yield_per = np.where(req_yield_per > 1, np.divide(req_yield_per, 100), req_yield_per)\n",
    "    \n",
    "    # calculate cash-flow\n",
    "    coupon_pay, par_val = bond_cash_flow_calc(bond_len, coupon_per, par_val, len_time='annual', details=details)[0:2]\n",
    "    \n",
    "    # calculate price\n",
    "    coupon_pay_price = np.round(np.multiply(coupon_pay, np.divide(np.subtract(1, np.divide(1, np.power(np.add(1, req_yield_per), bond_len))), req_yield_per)), decimals=2)\n",
    "    par_val_price = np.round(np.multiply(par_val, np.divide(1, np.power(np.add(1, req_yield_per), bond_len))), decimals=2)\n",
    "    bond_price = np.round(np.add(coupon_pay_price, par_val_price), decimals=2)\n",
    "    \n",
    "    if details:\n",
    "        if (bond_len.size == 1) & (req_yield_per.size == 1):\n",
    "            print('Present Value of Coupon Payment - ${:.2f}'.format(coupon_pay_price))\n",
    "            print('Present Value of Par/Maturity Value - ${:.2f}'.format(par_val_price))\n",
    "            print('Present Value of Bond - ${:.2f}'.format(bond_price))\n",
    "        else:\n",
    "            np.set_printoptions(precision=2)\n",
    "            print('Present Value of Coupon Payment - ${}'.format(coupon_pay_price))\n",
    "            print('Present Value of Par/Maturity Value - ${}'.format(par_val_price))\n",
    "            print('Present Value of Bond - ${}'.format(bond_price))\n",
    "        \n",
    "    return coupon_pay_price, par_val_price, bond_price"
   ]
  },
  {
   "cell_type": "markdown",
   "id": "f153dc23",
   "metadata": {},
   "source": [
    "&emsp; Bond Length - $20$ years <br>\n",
    "&emsp; Coupon Rate - $9\\%$ <br>\n",
    "&emsp; Maturity Value - $\\$1,000$ <br>\n",
    "&emsp; Required Yield - $12\\%$"
   ]
  },
  {
   "cell_type": "code",
   "execution_count": 7,
   "id": "d7089e5d",
   "metadata": {},
   "outputs": [
    {
     "name": "stdout",
     "output_type": "stream",
     "text": [
      "Annual Coupon Rate - $45.00 for 40.0 periods\n",
      "Maturity Value - $1000.00\n",
      "Present Value of Coupon Payment - $677.08\n",
      "Present Value of Par/Maturity Value - $97.22\n",
      "Present Value of Bond - $774.30\n"
     ]
    },
    {
     "data": {
      "text/plain": [
       "(677.08, 97.22, 774.3)"
      ]
     },
     "execution_count": 7,
     "metadata": {},
     "output_type": "execute_result"
    }
   ],
   "source": [
    "bond_price_calc(bond_len=20, coupon_per=.09, par_val=1000, req_yield_per=.12, len_time='semiannual')"
   ]
  },
  {
   "cell_type": "markdown",
   "id": "57f75d07",
   "metadata": {},
   "source": [
    "&emsp; Bond Length - $20$ years <br>\n",
    "&emsp; Coupon Rate - $9\\%$ <br>\n",
    "&emsp; Maturity Value - $\\$1,000$ <br>\n",
    "&emsp; Required Yield - $7\\%$"
   ]
  },
  {
   "cell_type": "code",
   "execution_count": 8,
   "id": "c5f10bc5",
   "metadata": {},
   "outputs": [
    {
     "name": "stdout",
     "output_type": "stream",
     "text": [
      "Annual Coupon Rate - $45.00 for 40.0 periods\n",
      "Maturity Value - $1000.00\n",
      "Present Value of Coupon Payment - $960.98\n",
      "Present Value of Par/Maturity Value - $252.57\n",
      "Present Value of Bond - $1213.55\n"
     ]
    },
    {
     "data": {
      "text/plain": [
       "(960.98, 252.57, 1213.55)"
      ]
     },
     "execution_count": 8,
     "metadata": {},
     "output_type": "execute_result"
    }
   ],
   "source": [
    "bond_price_calc(bond_len=20, coupon_per=.09, par_val=1000, req_yield_per=.07, len_time='semiannual')"
   ]
  },
  {
   "cell_type": "markdown",
   "id": "9c3768c8",
   "metadata": {},
   "source": [
    "&emsp; Bond Length - $20$, $20$ years <br>\n",
    "&emsp; Coupon Rate - $9\\%$, $9\\%$ <br>\n",
    "&emsp; Maturity Value - $\\$1,000$, $\\$1,000$ <br>\n",
    "&emsp; Required Yield - $12\\%$, $7\\%$"
   ]
  },
  {
   "cell_type": "code",
   "execution_count": 9,
   "id": "d243ab5d",
   "metadata": {},
   "outputs": [
    {
     "name": "stdout",
     "output_type": "stream",
     "text": [
      "Annual Coupon Rate - $[45. 45.] for [40. 40.] periods\n",
      "Maturity Value - $[1000 1000]\n",
      "Present Value of Coupon Payment - $[677.08 960.98]\n",
      "Present Value of Par/Maturity Value - $[ 97.22 252.57]\n",
      "Present Value of Bond - $[ 774.3  1213.55]\n"
     ]
    },
    {
     "data": {
      "text/plain": [
       "(array([677.08, 960.98]), array([ 97.22, 252.57]), array([ 774.3 , 1213.55]))"
      ]
     },
     "execution_count": 9,
     "metadata": {},
     "output_type": "execute_result"
    }
   ],
   "source": [
    "bond_price_calc(bond_len=[20,20], coupon_per=[.09,.09], par_val=[1000,1000], req_yield_per=[.12,.07], len_time='semiannual')"
   ]
  },
  {
   "cell_type": "markdown",
   "id": "5842876d",
   "metadata": {},
   "source": [
    "&emsp; Bond Length - $20$ years <br>\n",
    "&emsp; Coupon Rate - $9\\%$ <br>\n",
    "&emsp; Maturity Value - $\\$1,000$ <br>\n",
    "&emsp; Required Yield - $5\\%$, $6\\%$, $7\\%$, $8\\%$, $9\\%$, $10\\%$, $11\\%$, $12\\%$, $13\\%$, $14\\%$, "
   ]
  },
  {
   "cell_type": "code",
   "execution_count": 10,
   "id": "3d578c56",
   "metadata": {},
   "outputs": [
    {
     "name": "stdout",
     "output_type": "stream",
     "text": [
      "Annual Coupon Rate - $45.00 for 40.0 periods\n",
      "Maturity Value - $1000.00\n",
      "Present Value of Coupon Payment - $[1129.62 1040.16  960.98  890.67  828.07  772.16  722.08  677.08  636.55\n",
      "  599.93]\n",
      "Present Value of Par/Maturity Value - $[372.43 306.56 252.57 208.29 171.93 142.05 117.46  97.22  80.54  66.78]\n",
      "Present Value of Bond - $[1502.05 1346.72 1213.55 1098.96 1000.    914.21  839.54  774.3   717.09\n",
      "  666.71]\n"
     ]
    },
    {
     "data": {
      "text/plain": [
       "(array([1129.62, 1040.16,  960.98,  890.67,  828.07,  772.16,  722.08,\n",
       "         677.08,  636.55,  599.93]),\n",
       " array([372.43, 306.56, 252.57, 208.29, 171.93, 142.05, 117.46,  97.22,\n",
       "         80.54,  66.78]),\n",
       " array([1502.05, 1346.72, 1213.55, 1098.96, 1000.  ,  914.21,  839.54,\n",
       "         774.3 ,  717.09,  666.71]))"
      ]
     },
     "execution_count": 10,
     "metadata": {},
     "output_type": "execute_result"
    }
   ],
   "source": [
    "bond_price_calc(bond_len=20, coupon_per=.09, par_val=1000, req_yield_per=np.arange(.05, .15, .01), len_time='semiannual')"
   ]
  },
  {
   "cell_type": "code",
   "execution_count": 11,
   "id": "c12e80e9",
   "metadata": {
    "scrolled": false
   },
   "outputs": [
    {
     "name": "stdout",
     "output_type": "stream",
     "text": [
      "[1502.05, 1346.72, 1213.55, 1098.96, 1000.0, 914.21, 839.54, 774.3, 717.09, 666.71]\n"
     ]
    },
    {
     "data": {
      "image/png": "[encoded data removed]",
      "text/plain": [
       "<Figure size 432x288 with 1 Axes>"
      ]
     },
     "metadata": {
      "needs_background": "light"
     },
     "output_type": "display_data"
    },
    {
     "data": {
      "text/html": [
       "<div>\n",
       "<style scoped>\n",
       "    .dataframe tbody tr th:only-of-type {\n",
       "        vertical-align: middle;\n",
       "    }\n",
       "\n",
       "    .dataframe tbody tr th {\n",
       "        vertical-align: top;\n",
       "    }\n",
       "\n",
       "    .dataframe thead th {\n",
       "        text-align: right;\n",
       "    }\n",
       "</style>\n",
       "<table border=\"1\" class=\"dataframe\">\n",
       "  <thead>\n",
       "    <tr style=\"text-align: right;\">\n",
       "      <th></th>\n",
       "      <th>Price</th>\n",
       "    </tr>\n",
       "    <tr>\n",
       "      <th>Required Yield</th>\n",
       "      <th></th>\n",
       "    </tr>\n",
       "  </thead>\n",
       "  <tbody>\n",
       "    <tr>\n",
       "      <th>0.05</th>\n",
       "      <td>1502.05</td>\n",
       "    </tr>\n",
       "    <tr>\n",
       "      <th>0.06</th>\n",
       "      <td>1346.72</td>\n",
       "    </tr>\n",
       "    <tr>\n",
       "      <th>0.07</th>\n",
       "      <td>1213.55</td>\n",
       "    </tr>\n",
       "    <tr>\n",
       "      <th>0.08</th>\n",
       "      <td>1098.96</td>\n",
       "    </tr>\n",
       "    <tr>\n",
       "      <th>0.09</th>\n",
       "      <td>1000.00</td>\n",
       "    </tr>\n",
       "    <tr>\n",
       "      <th>0.10</th>\n",
       "      <td>914.21</td>\n",
       "    </tr>\n",
       "    <tr>\n",
       "      <th>0.11</th>\n",
       "      <td>839.54</td>\n",
       "    </tr>\n",
       "    <tr>\n",
       "      <th>0.12</th>\n",
       "      <td>774.30</td>\n",
       "    </tr>\n",
       "    <tr>\n",
       "      <th>0.13</th>\n",
       "      <td>717.09</td>\n",
       "    </tr>\n",
       "    <tr>\n",
       "      <th>0.14</th>\n",
       "      <td>666.71</td>\n",
       "    </tr>\n",
       "  </tbody>\n",
       "</table>\n",
       "</div>"
      ],
      "text/plain": [
       "                  Price\n",
       "Required Yield         \n",
       "0.05            1502.05\n",
       "0.06            1346.72\n",
       "0.07            1213.55\n",
       "0.08            1098.96\n",
       "0.09            1000.00\n",
       "0.10             914.21\n",
       "0.11             839.54\n",
       "0.12             774.30\n",
       "0.13             717.09\n",
       "0.14             666.71"
      ]
     },
     "execution_count": 11,
     "metadata": {},
     "output_type": "execute_result"
    }
   ],
   "source": [
    "x = np.arange(.05, .15, .01)\n",
    "y = bond_price_calc(bond_len=20, coupon_per=.09, par_val=1000, req_yield_per=np.arange(.05, .15, .01), len_time='semiannual', details=False)[2]\n",
    "print(list(y))\n",
    "\n",
    "# graph the example for different required yields\n",
    "fig = plt.figure()\n",
    "\n",
    "plt.plot(x, y)\n",
    "\n",
    "# set labels\n",
    "plt.xlabel('Required Yield')\n",
    "plt.ylabel('Price')\n",
    "plt.title('Price/Yield Relationship')\n",
    "\n",
    "plt.show()\n",
    "\n",
    "# # add table\n",
    "pd.DataFrame(data=np.transpose([x,y]), columns=['Required Yield', 'Price']).set_index('Required Yield')"
   ]
  },
  {
   "cell_type": "markdown",
   "id": "f93e466b",
   "metadata": {},
   "source": [
    "### Time Path of a Bond\n",
    "\n",
    "A bond bought at par, is bought at par. However, if the required yield goes above(below) the coupon rate, this will lead to a price decrease(increase) to compensate for the greater(lower) yield to the investor buying. Price has to move for different required yields since bond coupon rates and length are set at issuance.\n",
    "\n",
    "When a bond is bought at issuance, it is typically being sold with a coupon rate equal to the required yield. \n",
    "\n",
    "There are three scenarios for the price of a bond to change accross time if **no** changes are ever made to the required yields:\n",
    "1. For a bond being sold at par, the price will remain stable as it approaches maturity.\n",
    "2. For a bond being sold at discount, the price will increase as it approaches maturity.\n",
    "3. For a bond being sold at premium, the price will decrease as it approaches maturity."
   ]
  },
  {
   "cell_type": "markdown",
   "id": "dc153d74",
   "metadata": {},
   "source": [
    "#### Reasons for Price Change\n",
    " - Interest Rate Changes - interest rates increases(decreases) lead to price decreases(increases)\n",
    " - Change in Price - unrelated to required yield changes\n",
    " - Non-Treasury Bond Impacted by Spread in Treasury Yields - rates do not need to change, but changes in spread can impact\n",
    " - Credit Quality of Issuer - improved(deteriorated) perceived credit quality may lead to increased(decreased) prices\n",
    " - Bond with Option - embedded options, such as callable, puttable or convertible bonds may affect pricing"
   ]
  },
  {
   "cell_type": "markdown",
   "id": "cf9d9e58",
   "metadata": {},
   "source": [
    "##### Example"
   ]
  },
  {
   "cell_type": "code",
   "execution_count": 13,
   "id": "7d64b889",
   "metadata": {},
   "outputs": [
    {
     "name": "stdout",
     "output_type": "stream",
     "text": [
      "\n",
      "Time Paths of 20-Year, 9% Coupon Discount Sold at Discount and Premium\n"
     ]
    },
    {
     "data": {
      "text/html": [
       "<div>\n",
       "<style scoped>\n",
       "    .dataframe tbody tr th:only-of-type {\n",
       "        vertical-align: middle;\n",
       "    }\n",
       "\n",
       "    .dataframe tbody tr th {\n",
       "        vertical-align: top;\n",
       "    }\n",
       "\n",
       "    .dataframe thead th {\n",
       "        text-align: right;\n",
       "    }\n",
       "</style>\n",
       "<table border=\"1\" class=\"dataframe\">\n",
       "  <thead>\n",
       "    <tr style=\"text-align: right;\">\n",
       "      <th></th>\n",
       "      <th>Price of Discount Bond</th>\n",
       "      <th>Price of at Par Bond</th>\n",
       "      <th>Price of Premium Bond</th>\n",
       "    </tr>\n",
       "    <tr>\n",
       "      <th>Years Remaining to Maturity</th>\n",
       "      <th></th>\n",
       "      <th></th>\n",
       "      <th></th>\n",
       "    </tr>\n",
       "  </thead>\n",
       "  <tbody>\n",
       "    <tr>\n",
       "      <th>20.0</th>\n",
       "      <td>774.30</td>\n",
       "      <td>1000.0</td>\n",
       "      <td>1213.55</td>\n",
       "    </tr>\n",
       "    <tr>\n",
       "      <th>18.0</th>\n",
       "      <td>780.68</td>\n",
       "      <td>1000.0</td>\n",
       "      <td>1202.90</td>\n",
       "    </tr>\n",
       "    <tr>\n",
       "      <th>16.0</th>\n",
       "      <td>788.74</td>\n",
       "      <td>1000.0</td>\n",
       "      <td>1190.69</td>\n",
       "    </tr>\n",
       "    <tr>\n",
       "      <th>14.0</th>\n",
       "      <td>798.91</td>\n",
       "      <td>1000.0</td>\n",
       "      <td>1176.67</td>\n",
       "    </tr>\n",
       "    <tr>\n",
       "      <th>12.0</th>\n",
       "      <td>811.75</td>\n",
       "      <td>1000.0</td>\n",
       "      <td>1160.59</td>\n",
       "    </tr>\n",
       "    <tr>\n",
       "      <th>10.0</th>\n",
       "      <td>827.95</td>\n",
       "      <td>1000.0</td>\n",
       "      <td>1142.13</td>\n",
       "    </tr>\n",
       "    <tr>\n",
       "      <th>8.0</th>\n",
       "      <td>848.42</td>\n",
       "      <td>1000.0</td>\n",
       "      <td>1120.95</td>\n",
       "    </tr>\n",
       "    <tr>\n",
       "      <th>6.0</th>\n",
       "      <td>874.24</td>\n",
       "      <td>1000.0</td>\n",
       "      <td>1096.63</td>\n",
       "    </tr>\n",
       "    <tr>\n",
       "      <th>4.0</th>\n",
       "      <td>906.85</td>\n",
       "      <td>1000.0</td>\n",
       "      <td>1068.74</td>\n",
       "    </tr>\n",
       "    <tr>\n",
       "      <th>2.0</th>\n",
       "      <td>948.02</td>\n",
       "      <td>1000.0</td>\n",
       "      <td>1036.73</td>\n",
       "    </tr>\n",
       "    <tr>\n",
       "      <th>0.0</th>\n",
       "      <td>1000.00</td>\n",
       "      <td>1000.0</td>\n",
       "      <td>1000.00</td>\n",
       "    </tr>\n",
       "  </tbody>\n",
       "</table>\n",
       "</div>"
      ],
      "text/plain": [
       "                             Price of Discount Bond  Price of at Par Bond  \\\n",
       "Years Remaining to Maturity                                                 \n",
       "20.0                                         774.30                1000.0   \n",
       "18.0                                         780.68                1000.0   \n",
       "16.0                                         788.74                1000.0   \n",
       "14.0                                         798.91                1000.0   \n",
       "12.0                                         811.75                1000.0   \n",
       "10.0                                         827.95                1000.0   \n",
       "8.0                                          848.42                1000.0   \n",
       "6.0                                          874.24                1000.0   \n",
       "4.0                                          906.85                1000.0   \n",
       "2.0                                          948.02                1000.0   \n",
       "0.0                                         1000.00                1000.0   \n",
       "\n",
       "                             Price of Premium Bond  \n",
       "Years Remaining to Maturity                         \n",
       "20.0                                       1213.55  \n",
       "18.0                                       1202.90  \n",
       "16.0                                       1190.69  \n",
       "14.0                                       1176.67  \n",
       "12.0                                       1160.59  \n",
       "10.0                                       1142.13  \n",
       "8.0                                        1120.95  \n",
       "6.0                                        1096.63  \n",
       "4.0                                        1068.74  \n",
       "2.0                                        1036.73  \n",
       "0.0                                        1000.00  "
      ]
     },
     "execution_count": 13,
     "metadata": {},
     "output_type": "execute_result"
    }
   ],
   "source": [
    "x = np.arange(20, -2, -2)\n",
    "length = x.size\n",
    "y = bond_price_calc(bond_len=x, coupon_per=[.09]*length, par_val=[1000]*length, req_yield_per=[.12]*length, len_time='semiannual', details=False)[2]\n",
    "z = bond_price_calc(bond_len=x, coupon_per=[.09]*length, par_val=[1000]*length, req_yield_per=[.07]*length, len_time='semiannual', details=False)[2]\n",
    "j = bond_price_calc(bond_len=x, coupon_per=[.09]*length, par_val=[1000]*length, req_yield_per=[.09]*length, len_time='semiannual', details=False)[2]\n",
    "\n",
    "# add table\n",
    "print('\\nTime Paths of 20-Year, 9% Coupon Discount Sold at Discount and Premium')\n",
    "pd.DataFrame(data=np.array([x, y, j, z]).T, columns=['Years Remaining to Maturity','Price of Discount Bond', 'Price of at Par Bond', 'Price of Premium Bond']).set_index('Years Remaining to Maturity')"
   ]
  },
  {
   "cell_type": "markdown",
   "id": "88bd31b7",
   "metadata": {},
   "source": [
    "### Zero-Coupon Bond\n",
    "\n",
    "The pricing of a zero-coupon bond is no different than pricing of a coupon bond; its price is the present value of the expected cash-flows. In this case, that only cash-flow is the maturity value."
   ]
  },
  {
   "cell_type": "markdown",
   "id": "81933f11",
   "metadata": {},
   "source": [
    "##### Example\n",
    "\n",
    "&emsp; Bond Length - $10$ years <br>\n",
    "&emsp; Maturity Value - $\\$1,000$ <br>\n",
    "&emsp; Required Yield - $8.6\\%$"
   ]
  },
  {
   "cell_type": "code",
   "execution_count": 14,
   "id": "d5f38cdf",
   "metadata": {},
   "outputs": [
    {
     "name": "stdout",
     "output_type": "stream",
     "text": [
      "Annual Coupon Rate - $0.00 for 20.0 periods\n",
      "Maturity Value - $1000.00\n",
      "Present Value of Coupon Payment - $0.00\n",
      "Present Value of Par/Maturity Value - $430.84\n",
      "Present Value of Bond - $430.84\n"
     ]
    },
    {
     "data": {
      "text/plain": [
       "430.84"
      ]
     },
     "execution_count": 14,
     "metadata": {},
     "output_type": "execute_result"
    }
   ],
   "source": [
    "bond_price_calc(bond_len=10, coupon_per=0, par_val=1000, req_yield_per=8.6, len_time='semiannual')[2]"
   ]
  },
  {
   "cell_type": "markdown",
   "id": "82df504b",
   "metadata": {},
   "source": [
    "### Pricing When Settlement Date Falls between Coupon Periods\n",
    "\n",
    "All assumptions to now assumed the settlement occurrs the day after a coupon payment. More reasonably, it will fall in-between coupon payments. In order to compensate, calculations are done to pro-rate the pricing.\n",
    "\n",
    "Based on the type of bond, the calculation may be done differently:\n",
    "- Treasury - actual/actual; based on actual count of days, and 365 days in a nonleap year\n",
    "- Corporate and Municipal - 30/60; based on 30 day months and 360 days in a year"
   ]
  },
  {
   "cell_type": "markdown",
   "id": "5dd54734",
   "metadata": {},
   "source": [
    "#### Compounding Calculation Formula\n",
    "\n",
    "Once the number of days have been determined, then to determine price, once must calculate the time ratio and price by compound formula.\n",
    "\n",
    "The time ratio is given by:\n",
    "$$w=\\frac{number\\ of\\ days\\ between\\ settlement\\ and\\ next\\ coupon\\ date}{number\\ of\\ days\\ in\\ coupon\\ period}$$\n",
    "The price formula is given by:\n",
    "$$p=\\frac{c}{\\left(1+i\\right)^w}+\\frac{c}{\\left(1+i\\right)^{1+w}}+\\frac{c}{\\left(1+i\\right)^{2+w}}+...+\\frac{c}{\\left(1+i\\right)^{n-1+w}}+\\frac{M}{\\left(1+i\\right)^{n-1+w}}$$\n",
    "where <br> \n",
    "&emsp; $p=$ price $(\\$)$ <br> \n",
    "&emsp; $c=$ semiannual coupon payment $(\\$)$ <br> \n",
    "&emsp; $n=$ number of periods (number of years x 2) <br> \n",
    "&emsp; $i=$ periodic interest rate (required yield / 2) <br> \n",
    "&emsp;$M=$ maturity/par value"
   ]
  },
  {
   "cell_type": "markdown",
   "id": "166050bb",
   "metadata": {},
   "source": [
    "#### Accrued Interest\n",
    "\n",
    "The buyer is expected to compensate the seller for the portion of the next coupon interest payment the seller has earned but will not receive from the issuer because the issuer will send this next payment to the buyer. This is called accrued interest and depends on time (in days) between last coupon payment and settlement date. \n",
    "\n",
    "The accured interest is given by:\n",
    "$$AI=c\\left(\\frac{number\\ of\\ days\\ from\\ last\\ coupon\\ payment\\ to\\ settlement\\ date}{number\\ of\\ days\\ in\\ coupon\\ period}\\right)$$\n",
    "where <br> \n",
    "&emsp; $AI=$ accrued interest $(\\$)$ <br> \n",
    "&emsp;&emsp; $c=$ semiannual coupon payment $(\\$)$ <br> \n",
    "\n"
   ]
  },
  {
   "cell_type": "markdown",
   "id": "7194d21a",
   "metadata": {},
   "source": [
    "##### Formula with Examples"
   ]
  },
  {
   "cell_type": "code",
   "execution_count": 15,
   "id": "772ace80",
   "metadata": {},
   "outputs": [],
   "source": [
    "def actual_time_ratio_calc(nd1, sd2, period):\n",
    "    \"\"\" Calculate Ratio of Days Between Two Dates to Days in a Year\n",
    "     \n",
    "    They are then used to calculate days between settlement date and maturity date based on days in a year.\n",
    "    Based on the fllowing option:\n",
    "       - Actual: Direct count of days between dates\n",
    "    Used to calculate time ratio for a given count of days in a year.\n",
    "    \n",
    "    Args:\n",
    "        nd1 (date): Date of next payout for a bond.\n",
    "        sd2 (date): Date of settlement for a bond, or official purchase date.\n",
    "        period (int): number of bond payouts until maturity.\n",
    "        \n",
    "    Returns:\n",
    "        np.float: The time ratio for number of days between maturity and settlement dates and total number of days in a year.\n",
    "        np.float: The time ratio for number of days between settlement date and next coupon date and total number of days in a year.\n",
    "        \n",
    "    \"\"\"\n",
    "    numer = (nd1 - sd2) / np.timedelta64(1, 'D')\n",
    "    denom = (nd1 - np.datetime64(np.datetime64(nd1, 'M') - np.timedelta64(6, 'M'), 'D')) / np.timedelta64(1, 'D')\n",
    "    return np.divide(numer, denom), np.divide(np.subtract(denom, numer), denom)\n",
    "\n",
    "def thirtysixty_time_ratio_calc(sd1, dr2, td3, period):\n",
    "    \"\"\" Calculate Ratio of Days Between Two Dates to Days in a Year\n",
    "     \n",
    "    They are then used to calculate days between settlement date and maturity date based on days in a year.\n",
    "    Based on the following option:\n",
    "       - 30/60: Every month is treated for 30 days\n",
    "    Used to calculate time ratio for a given count of days in a year.\n",
    "    \n",
    "    Args:\n",
    "        sd1 (date): Date of settlement for a bond, or official purchase date.\n",
    "        dr2 (int): Number of days remaining to next bond payout.\n",
    "        td3 (int): Number of days from maturity to settlement date.\n",
    "        period (int): number of bond payouts until maturity.\n",
    "        \n",
    "    Returns:\n",
    "        np.float: The time ratio for number of days between maturity and settlement dates and total number of days in a year.\n",
    "        np.float: The time ratio for number of days between settlement date and next coupon date and total number of days in a year.\n",
    "        \n",
    "    \"\"\"    \n",
    "    days_passed = (sd1 - (np.datetime64(sd1, 'M') - np.timedelta64(1, 'D'))) / np.timedelta64(1, 'D')\n",
    "    days_remaining = np.where(np.add(dr2, days_passed) > 30, np.subtract(30, days_passed), dr2)\n",
    "    numer = np.add(np.add(np.multiply(np.subtract(td3, 1), 30), days_remaining), 1)\n",
    "    denom = np.multiply(30, period)\n",
    "    return np.divide(numer, denom), np.divide(np.subtract(denom, numer), denom)\n",
    "    \n",
    "def next_pay_date_calc(sd1, md2, period):\n",
    "    \"\"\" Calculate the Date of the Next Payout Period\n",
    "     \n",
    "    Finds the exact date for the next payout period.\n",
    "    \n",
    "    Args:\n",
    "        sd1 (date): Date of settlement for a bond, or official purchase date.\n",
    "        md2 (date): Date of maturity for a bond.\n",
    "        period (int): number of bond payouts until maturity.\n",
    "        \n",
    "    Returns:\n",
    "        np.datetime64: Date of next payout period for a bond.\n",
    "        \n",
    "    \"\"\"\n",
    "    days_remaining = (np.datetime64(sd1, 'M') + np.timedelta64(1, 'M') - np.timedelta64(1, 'D') - sd1) / np.timedelta64(1, 'D')\n",
    "    time_diff = np.mod((md2 - sd1).astype('timedelta64[M]') / np.timedelta64(1, 'M'), period)\n",
    "    time_diff = np.where(days_remaining > 0, np.add(time_diff, 1), time_diff)\n",
    "    return np.datetime64(np.datetime64(sd1,'M') + time_diff.astype('timedelta64[M]'), 'D'), days_remaining, time_diff\n",
    "\n",
    "def time_ratio_calc(mat_date, sett_date, period, date_calc='3060', len_time='semiannual'):   \n",
    "    \"\"\" Calculate Ratio of Days Between Two Dates to Days in a Year\n",
    "    \n",
    "    Given args are converted into numpy arrrays. \n",
    "    They are then used to calculate days between settlement date and maturity date based on days in a year.\n",
    "    Two options available:\n",
    "       - Actual: Direct count of days between dates\n",
    "       - 30/60: Every month is treated for 30 days\n",
    "    Used to calculate time ratio for a given count of days in a year.\n",
    "    \n",
    "    Accrued interest calculated as well based on days between settlement date and next coupon date.\n",
    "    \n",
    "    Args:\n",
    "        mat_date (date): Date of maturity for a bond.\n",
    "        sett_date (date): Date of settlement for a bond, or official purchase date.\n",
    "        date_calc (str): whether to calculate time difference (in days) based on actual or 30 days a month (360 days a year).\n",
    "        len_time (str): Period length designation.\n",
    "        \n",
    "    Returns:\n",
    "        np.float: The time ratio for number of days between maturity and settlement dates and total number of days in a year.\n",
    "        \n",
    "    \"\"\"\n",
    "    # fail safe\n",
    "    if mat_date <= sett_date:\n",
    "        return 'Settlement cannot come after maturity of bond!'\n",
    "    if date_calc.lower() not in ('3060', 'actual'):\n",
    "        return 'Incorrect description for timing calculation'   \n",
    "    \n",
    "    # calculate next pay date for coupon\n",
    "    next_pay_date, days_remaining, time_diff = next_pay_date_calc(sett_date, mat_date, np.divide(12.0, period))\n",
    "    \n",
    "    # find time ratio based on specified time counting calculation\n",
    "    time_ratio_3060 = np.where(date_calc=='3060', thirtysixty_time_ratio_calc(sett_date, days_remaining, time_diff, np.divide(12.0, period))[0], 0.0)\n",
    "    ai_ratio_3060 = np.where(date_calc=='3060', thirtysixty_time_ratio_calc(sett_date, days_remaining, time_diff, np.divide(12.0, period))[1], 0.0)\n",
    "    \n",
    "    time_ratio_actual = np.where(date_calc=='actual', actual_time_ratio_calc(next_pay_date, sett_date, np.divide(12.0, period))[0], 0.0)\n",
    "    ai_ratio_actual = np.where(date_calc=='actual', actual_time_ratio_calc(next_pay_date, sett_date, np.divide(12.0, period))[1], 0.0)\n",
    "    \n",
    "    time_ratio = np.add(time_ratio_3060, time_ratio_actual)\n",
    "    ai_ratio = np.add(ai_ratio_3060, ai_ratio_actual)\n",
    "\n",
    "    # caclulate the bond price\n",
    "    np.zeros(12)\n",
    "    \n",
    "    # secondary fail safe\n",
    "    if time_ratio == 0.0:\n",
    "        return 'Incorrect timing calculated'\n",
    "    \n",
    "    return time_ratio, ai_ratio\n",
    "\n",
    "def bond_price_calc_sett(bond_len, coupon_per, par_val, req_yield_per, price='clean', date_calc='3060', len_time='semiannual', details=True):\n",
    "    \"\"\" Calculate Pricing for a Bond\n",
    "    \n",
    "    Given args are converted into numpy arrrays. \n",
    "    They are then used to calculate what the payout is for a bond during its life from a different \n",
    "    settlement date into maturity.\n",
    "    \n",
    "    Args:\n",
    "        bond_len (array): Periods of time between maturity and bond purchase, respectively.\n",
    "        coupon_per (float): Current interest rate return on a bond per specified period.\n",
    "        par_val (float): Value of bona at par.\n",
    "        req_yield_per (float): Expected yearly return on bond.\n",
    "        date_calc (str): whether to calculate time difference (in days) based on actual or 30 days a month (360 days a year).\n",
    "        len_time (str): Period length designation.\n",
    "        details (bool): Determines whether to print calculation results.\n",
    "        \n",
    "    Returns:\n",
    "        np.float: The price of the coupon payment.\n",
    "        \n",
    "    \"\"\"\n",
    "    # convert to numpy arrays\n",
    "    coupon_per = np.array(coupon_per)\n",
    "    par_val = np.array(par_val)\n",
    "    req_yield_per = np.array(req_yield_per)\n",
    "    mat_date = np.datetime64(bond_len[0])\n",
    "    sett_date = np.datetime64(bond_len[1])    \n",
    "    \n",
    "    # fail safe\n",
    "    if len_time.lower() not in ('semiannual', 'annual'):\n",
    "        return('Incorrect period length description') \n",
    "    if price.lower() not in ('clean', 'dirty'):\n",
    "        return('Incorrect price description') \n",
    "    \n",
    "    # adjust fields based on length of bond period\n",
    "    p1 = np.where(len_time.lower()=='semiannual', np.divide(12.0, 6.0), 0.0)\n",
    "    p2 = np.where(len_time.lower()=='annual', np.divide(12.0, 12.0), 0.0)\n",
    "    period = np.add(p1, p2)   \n",
    "    bond_len = np.ceil(np.divide((mat_date - sett_date).astype('timedelta64[M]') / np.timedelta64(1, 'M'), np.divide(12.0, period)))\n",
    "    coupon_per = np.divide(coupon_per, period)\n",
    "    req_yield_per = np.divide(req_yield_per, period)\n",
    "    \n",
    "    # adjust for given coupon rate format\n",
    "    coupon_per = np.where(coupon_per > 1, np.divide(coupon_per, 100), coupon_per)\n",
    "    req_yield_per = np.where(req_yield_per > 1, np.divide(req_yield_per, 100), req_yield_per)\n",
    "    \n",
    "    # calculate time ratio and accrued interest ratio\n",
    "    time_ratio = time_ratio_calc(mat_date=mat_date, sett_date=sett_date, period=period, date_calc=date_calc, len_time=len_time)[0]\n",
    "    ai_ratio = time_ratio_calc(mat_date=mat_date, sett_date=sett_date, period=period, date_calc=date_calc, len_time=len_time)[1]\n",
    "    if isinstance(time_ratio, str):\n",
    "        return time_ratio\n",
    "    \n",
    "    # calculate cash-flow\n",
    "    coupon_pay = bond_cash_flow_calc(bond_len, coupon_per, par_val, len_time='annual', details=details)[0]\n",
    "    \n",
    "    # calculate price\n",
    "    bond_len = np.where(time_ratio.is_integer(), np.add(bond_len, 1), bond_len)\n",
    "    periods = np.add(np.arange(bond_len.astype(int)), time_ratio)\n",
    "    coupon_pay = np.full(bond_len.astype(int), coupon_pay)\n",
    "    ai_price = np.multiply(coupon_pay[0], ai_ratio)\n",
    "    coupon_pay[-1] = np.add(coupon_pay[-1], par_val)\n",
    "    bond_price = np.divide(coupon_pay, np.power(np.add(1, req_yield_per), periods))\n",
    "    bond_price[0] = np.where(price.lower() == 'clean', bond_price[0] - ai_price, bond_price[0])\n",
    "    \n",
    "    if details:\n",
    "        print('Accrued Interest - ${:.2f}'.format(ai_price))\n",
    "        if (bond_len.size == 1) & (req_yield_per.size == 1):\n",
    "            comb_array = np.array([periods, coupon_pay, bond_price])\n",
    "            comb_data = pd.DataFrame(data=comb_array.T, columns=['Period', 'Coupon Payment Scheduled', 'Bond Price'])\n",
    "            print(comb_data)\n",
    "            if price.lower() == 'clean':\n",
    "                print('Present Clean Value of Bond - ${:.2f}'.format(np.sum(bond_price)))\n",
    "            if price.lower() == 'dirty':\n",
    "                print('Present Dirty Value of Bond - ${:.2f}'.format(np.sum(bond_price)))\n",
    "        else:\n",
    "            np.set_printoptions(precision=2)\n",
    "            print('Present Value of Bond - ${}'.format(bond_price))\n",
    "    return np.sum(bond_price)"
   ]
  },
  {
   "cell_type": "markdown",
   "id": "1368ef8d",
   "metadata": {},
   "source": [
    "&emsp; Bond Maturity - $03/01/2012$ <br>\n",
    "&emsp; Bond Settlement - $07/17/2006$ <br>\n",
    "&emsp; Coupon Rate - $10\\%$ <br>\n",
    "&emsp; Maturity Value - $\\$100$ <br>\n",
    "&emsp; Required Yield - $6.5\\%$"
   ]
  },
  {
   "cell_type": "code",
   "execution_count": 16,
   "id": "499460a4",
   "metadata": {},
   "outputs": [
    {
     "name": "stdout",
     "output_type": "stream",
     "text": [
      "Annual Coupon Rate - $5.00 for 12.0 periods\n",
      "Maturity Value - $100.00\n",
      "Accrued Interest - $3.78\n",
      "       Period  Coupon Payment Scheduled  Bond Price\n",
      "0    0.244444                       5.0    1.183284\n",
      "1    1.244444                       5.0    4.804903\n",
      "2    2.244444                       5.0    4.653659\n",
      "3    3.244444                       5.0    4.507176\n",
      "4    4.244444                       5.0    4.365303\n",
      "5    5.244444                       5.0    4.227897\n",
      "6    6.244444                       5.0    4.094815\n",
      "7    7.244444                       5.0    3.965923\n",
      "8    8.244444                       5.0    3.841087\n",
      "9    9.244444                       5.0    3.720181\n",
      "10  10.244444                       5.0    3.603081\n",
      "11  11.244444                     105.0   73.283008\n",
      "Present Clean Value of Bond - $116.25\n"
     ]
    },
    {
     "data": {
      "text/plain": [
       "116.25031660916451"
      ]
     },
     "execution_count": 16,
     "metadata": {},
     "output_type": "execute_result"
    }
   ],
   "source": [
    "bond_price_calc_sett(bond_len=['2012-03-01', '2006-07-17'], coupon_per=10, par_val=100, req_yield_per=6.5, price='clean', len_time='semiannual')"
   ]
  },
  {
   "cell_type": "markdown",
   "id": "84cf50f0",
   "metadata": {},
   "source": [
    "&emsp; Bond Length - $6$ years <br>\n",
    "&emsp; Bond Maturity - $03/01/2012$ <br>\n",
    "&emsp; Bond Settlement - $09/01/2006$ <br>\n",
    "&emsp; Coupon Rate - $10\\%$ <br>\n",
    "&emsp; Maturity Value - $\\$100$ <br>\n",
    "&emsp; Required Yield - $6.5\\%$"
   ]
  },
  {
   "cell_type": "code",
   "execution_count": 17,
   "id": "e329b39f",
   "metadata": {},
   "outputs": [
    {
     "name": "stdout",
     "output_type": "stream",
     "text": [
      "Annual Coupon Rate - $5.00 for 11.0 periods\n",
      "Maturity Value - $100.00\n",
      "Accrued Interest - $0.00\n",
      "    Period  Coupon Payment Scheduled  Bond Price\n",
      "0      1.0                       5.0    4.842615\n",
      "1      2.0                       5.0    4.690184\n",
      "2      3.0                       5.0    4.542551\n",
      "3      4.0                       5.0    4.399565\n",
      "4      5.0                       5.0    4.261080\n",
      "5      6.0                       5.0    4.126954\n",
      "6      7.0                       5.0    3.997050\n",
      "7      8.0                       5.0    3.871235\n",
      "8      9.0                       5.0    3.749380\n",
      "9     10.0                       5.0    3.631361\n",
      "10    11.0                       5.0    3.517056\n",
      "11    12.0                     105.0   71.533352\n",
      "Present Clean Value of Bond - $117.16\n"
     ]
    },
    {
     "data": {
      "text/plain": [
       "117.16238368358607"
      ]
     },
     "execution_count": 17,
     "metadata": {},
     "output_type": "execute_result"
    }
   ],
   "source": [
    "bond_price_calc_sett(bond_len=['2012-03-01', '2006-09-01'], coupon_per=10, par_val=100, req_yield_per=6.5, price='clean',len_time='semiannual')"
   ]
  },
  {
   "cell_type": "code",
   "execution_count": 18,
   "id": "d8660bdd",
   "metadata": {},
   "outputs": [
    {
     "name": "stdout",
     "output_type": "stream",
     "text": [
      "Annual Coupon Rate - $5.00 for 12.0 periods\n",
      "Maturity Value - $100.00\n",
      "Present Value of Coupon Payment - $49.04\n",
      "Present Value of Par/Maturity Value - $68.13\n",
      "Present Value of Bond - $117.17\n"
     ]
    },
    {
     "data": {
      "text/plain": [
       "(49.04, 68.13, 117.17)"
      ]
     },
     "execution_count": 18,
     "metadata": {},
     "output_type": "execute_result"
    }
   ],
   "source": [
    "bond_price_calc(bond_len=6, coupon_per=10, par_val=100, req_yield_per=6.5, len_time='semiannual')"
   ]
  }
 ],
 "metadata": {
  "kernelspec": {
   "display_name": "Python 3 (ipykernel)",
   "language": "python",
   "name": "python3"
  },
  "language_info": {
   "codemirror_mode": {
    "name": "ipython",
    "version": 3
   },
   "file_extension": ".py",
   "mimetype": "text/x-python",
   "name": "python",
   "nbconvert_exporter": "python",
   "pygments_lexer": "ipython3",
   "version": "3.9.12"
  }
 },
 "nbformat": 4,
 "nbformat_minor": 5
}
